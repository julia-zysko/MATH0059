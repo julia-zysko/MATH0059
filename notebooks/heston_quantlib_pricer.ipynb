{
 "cells": [
  {
   "cell_type": "markdown",
   "metadata": {},
   "source": [
    "### Price an American Put option under the Heston stochastic volatility model using the Quantlib finite-differece method FdHestonVanillaEngine"
   ]
  },
  {
   "cell_type": "code",
   "execution_count": 23,
   "metadata": {},
   "outputs": [
    {
     "name": "stdout",
     "output_type": "stream",
     "text": [
      "The American put price under Heston model: 11.5123\n"
     ]
    }
   ],
   "source": [
    "import QuantLib as ql\n",
    "\n",
    "# Model parameters - market and the option setup\n",
    "S0 = 100.0        # Initial stock price\n",
    "K = 110.0         # Strike prince\n",
    "r = 0.06          # Risk-free rate\n",
    "T = 1.0           # Maturity (in years)\n",
    "\n",
    "v0 = 0.2**2       # Initial variance\n",
    "kappa = 2.0       # Mean reversion speed\n",
    "theta = 0.2**2    # Long-term variance\n",
    "sigma = 0.1       # Vol of vol\n",
    "rho = -0.7        # Correlation\n",
    "\n",
    "# QuantLib setup\n",
    "calendar = ql.NullCalendar()\n",
    "day_count = ql.Actual365Fixed()\n",
    "settlement_date = ql.Date.todaysDate()\n",
    "\n",
    "# Yield/dividend/spot curves\n",
    "spot_handle = ql.QuoteHandle(ql.SimpleQuote(S0))\n",
    "rf_curve = ql.YieldTermStructureHandle(\n",
    "    ql.FlatForward(settlement_date, r, day_count)\n",
    ")\n",
    "div_curve = ql.YieldTermStructureHandle(\n",
    "    ql.FlatForward(settlement_date, 0.0, day_count)\n",
    ")\n",
    "\n",
    "# Heston process & model\n",
    "heston_process = ql.HestonProcess(\n",
    "    rf_curve, div_curve, spot_handle,\n",
    "    v0, kappa, theta, sigma, rho\n",
    ")\n",
    "heston_model = ql.HestonModel(heston_process)\n",
    "\n",
    "# American option setup\n",
    "maturity_date = settlement_date + int(T*365)\n",
    "payoff = ql.PlainVanillaPayoff(ql.Option.Put, K)\n",
    "exercise = ql.AmericanExercise(settlement_date, maturity_date)\n",
    "\n",
    "option = ql.VanillaOption(payoff, exercise)\n",
    "\n",
    "# Create the FD pricing engine\n",
    "# Grid parameters (can be adjusted for accuracy vs speed trade-off)\n",
    "tGrid = 100  # Time steps\n",
    "xGrid = 100  # Spot price steps\n",
    "vGrid = 100   # Variance steps\n",
    "dampingSteps = 0  # Damping steps for handling discontinuities\n",
    "\n",
    "# Finite difference scheme (default: Hundsdorfer)\n",
    "fd_scheme = ql.FdmSchemeDesc.Hundsdorfer()\n",
    "\n",
    "# Create the engine\n",
    "engine = ql.FdHestonVanillaEngine(\n",
    "    heston_model,\n",
    "    tGrid,\n",
    "    xGrid,\n",
    "    vGrid,\n",
    "    dampingSteps,\n",
    "    fd_scheme\n",
    ")\n",
    "option.setPricingEngine(engine)\n",
    "\n",
    "# Calculate the price\n",
    "price = option.NPV()\n",
    "print(f\"The American put price under Heston model: {price:.4f}\")\n"
   ]
  },
  {
   "cell_type": "code",
   "execution_count": null,
   "metadata": {},
   "outputs": [],
   "source": []
  }
 ],
 "metadata": {
  "kernelspec": {
   "display_name": "thesis-env",
   "language": "python",
   "name": "python3"
  },
  "language_info": {
   "codemirror_mode": {
    "name": "ipython",
    "version": 3
   },
   "file_extension": ".py",
   "mimetype": "text/x-python",
   "name": "python",
   "nbconvert_exporter": "python",
   "pygments_lexer": "ipython3",
   "version": "3.12.2"
  }
 },
 "nbformat": 4,
 "nbformat_minor": 2
}
