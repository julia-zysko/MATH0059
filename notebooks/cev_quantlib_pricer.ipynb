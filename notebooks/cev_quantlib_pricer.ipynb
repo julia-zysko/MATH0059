{
 "cells": [
  {
   "cell_type": "markdown",
   "metadata": {},
   "source": [
    "### Price an American Put option under the CEV local volatility model using the Quantlib finite-differece method FdCEVVanillaEngine"
   ]
  },
  {
   "cell_type": "code",
   "execution_count": 1,
   "metadata": {},
   "outputs": [
    {
     "name": "stdout",
     "output_type": "stream",
     "text": [
      "The American put option price is 11.289693309469737\n"
     ]
    }
   ],
   "source": [
    "import QuantLib as ql\n",
    "# Market and option parameters\n",
    "S0     = 100.0      # Initial stock price\n",
    "K      = 110.0      # Strike price\n",
    "sigma  = 0.2        # Volatility constant\n",
    "gamma  = 0.9        # Stock price CEV power\n",
    "r      = 0.06       # Risk-free rate\n",
    "T      = 1.0        # Maturity (in years)\n",
    "\n",
    "# Dates\n",
    "dc = ql.Actual365Fixed()\n",
    "today = ql.Date.todaysDate()\n",
    "ql.Settings.instance().evaluationDate = today\n",
    "maturity = today + int(365*T + 0.5)\n",
    "\n",
    "discount = ql.YieldTermStructureHandle(\n",
    "    ql.FlatForward(today, r, dc)   # continuously-compounded by default\n",
    ")\n",
    "\n",
    "# Payoff and American exercise\n",
    "payoff   = ql.PlainVanillaPayoff(ql.Option.Put, K)\n",
    "exercise = ql.AmericanExercise(today, maturity)  # early exercise allowed from today\n",
    "option   = ql.VanillaOption(payoff, exercise)\n",
    "\n",
    "# Grid choice and build FD CEV engine\n",
    "tGrid, xGrid, dampingSteps = 100, 100, 0\n",
    "scalingFactor, eps = 1.5, 1e-8\n",
    "scheme = ql.FdmSchemeDesc.Hundsdorfer()\n",
    "\n",
    "engine = ql.FdCEVVanillaEngine(\n",
    "    S0, sigma, gamma, discount,\n",
    "    tGrid, xGrid, dampingSteps,\n",
    "    scalingFactor, eps, scheme\n",
    ")\n",
    "\n",
    "option.setPricingEngine(engine)\n",
    "\n",
    "print(\"The American put option price is\", option.NPV())"
   ]
  }
 ],
 "metadata": {
  "kernelspec": {
   "display_name": "thesis-env",
   "language": "python",
   "name": "python3"
  },
  "language_info": {
   "codemirror_mode": {
    "name": "ipython",
    "version": 3
   },
   "file_extension": ".py",
   "mimetype": "text/x-python",
   "name": "python",
   "nbconvert_exporter": "python",
   "pygments_lexer": "ipython3",
   "version": "3.12.4"
  }
 },
 "nbformat": 4,
 "nbformat_minor": 2
}
